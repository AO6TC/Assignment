{
 "cells": [
  {
   "cell_type": "markdown",
   "id": "7bb288c2-c3a1-4199-aa30-e1604f8eddd2",
   "metadata": {},
   "source": [
    "The title of the notebook is MyAssignment1."
   ]
  },
  {
   "cell_type": "markdown",
   "id": "7dd6639a-a7fc-4053-b862-b6b23af59150",
   "metadata": {},
   "source": [
    "Introduction:\n",
    "Hello! I have begun to use Jupyter Notebooks!"
   ]
  },
  {
   "cell_type": "markdown",
   "id": "88793b30-812e-4430-8a63-6371d1b16f47",
   "metadata": {},
   "source": [
    "Data Science Languages: \n",
    "1. Python \n",
    "2. R\n",
    "3. SQL\n",
    "4. Java\n",
    "5. Scala"
   ]
  },
  {
   "cell_type": "markdown",
   "id": "697030e7-a331-49a4-ac86-17cb1c15e58c",
   "metadata": {},
   "source": [
    "Data Science Libraries: \n",
    "1. Matplotib\n",
    "2. Numpy\n",
    "3. Pandas\n",
    "4. ggplot\n",
    "5. Scikit\n",
    "6. TensorFlow\n",
    "7. PyTorch"
   ]
  },
  {
   "cell_type": "markdown",
   "id": "504f7a6a-c623-412d-aa51-d8e1fdeebcf9",
   "metadata": {},
   "source": [
    "Table:\n",
    "\n",
    "| Data Science Tools |\n",
    "| :- |\n",
    "| 1. Python |\n",
    "| 2. SQL |\n",
    "| 3. Hadoop |\n",
    "| 4. Tableau |\n",
    "| 5. JupyterLab |"
   ]
  },
  {
   "cell_type": "markdown",
   "id": "606576a5-755f-4452-af1d-d1110758e3a6",
   "metadata": {},
   "source": [
    "Arithmetic Expression Examples:"
   ]
  },
  {
   "cell_type": "code",
   "execution_count": 1,
   "id": "fbe4b815-bbf1-464c-85b5-77d46936f63a",
   "metadata": {
    "tags": []
   },
   "outputs": [
    {
     "name": "stdout",
     "output_type": "stream",
     "text": [
      "Expression for adding and multiplying numbers is:  100\n"
     ]
    }
   ],
   "source": [
    "print(\"Expression for adding and multiplying numbers is: \",(20+5)*(2+2))"
   ]
  },
  {
   "cell_type": "code",
   "execution_count": 2,
   "id": "e0ecfa0b-f12b-45ac-85a4-82959e3f34f7",
   "metadata": {
    "tags": []
   },
   "outputs": [
    {
     "name": "stdout",
     "output_type": "stream",
     "text": [
      "Expression to convert 180 minutes to hours is:  3.0\n"
     ]
    }
   ],
   "source": [
    "print(\"Expression to convert 180 minutes to hours is: \", 180/60)"
   ]
  },
  {
   "cell_type": "markdown",
   "id": "e5acc82f-4d06-4cf9-99f4-9ca5ea816951",
   "metadata": {},
   "source": [
    "Objectives: To learn about Data Science tools like Python, R, SQL etc., To gain knowledge about Jupyter Notebooks and github and learn about IBM's Watson Studio. "
   ]
  },
  {
   "cell_type": "markdown",
   "id": "2ccd3155-418f-47ea-a944-1788da42c862",
   "metadata": {},
   "source": [
    "Author's Name: Rudransh Parashar"
   ]
  }
 ],
 "metadata": {
  "kernelspec": {
   "display_name": "Python",
   "language": "python",
   "name": "conda-env-python-py"
  },
  "language_info": {
   "codemirror_mode": {
    "name": "ipython",
    "version": 3
   },
   "file_extension": ".py",
   "mimetype": "text/x-python",
   "name": "python",
   "nbconvert_exporter": "python",
   "pygments_lexer": "ipython3",
   "version": "3.7.12"
  }
 },
 "nbformat": 4,
 "nbformat_minor": 5
}
