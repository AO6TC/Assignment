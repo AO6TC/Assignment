{
 "cells": [
  {
   "cell_type": "markdown",
   "id": "bcf1e081",
   "metadata": {},
   "source": [
    "<h3> Question 1: </h3>Extracting Tesla Stock Data Using yfinance "
   ]
  },
  {
   "cell_type": "code",
   "execution_count": 64,
   "id": "f79d14b4",
   "metadata": {},
   "outputs": [
    {
     "data": {
      "text/html": [
       "<div>\n",
       "<style scoped>\n",
       "    .dataframe tbody tr th:only-of-type {\n",
       "        vertical-align: middle;\n",
       "    }\n",
       "\n",
       "    .dataframe tbody tr th {\n",
       "        vertical-align: top;\n",
       "    }\n",
       "\n",
       "    .dataframe thead th {\n",
       "        text-align: right;\n",
       "    }\n",
       "</style>\n",
       "<table border=\"1\" class=\"dataframe\">\n",
       "  <thead>\n",
       "    <tr style=\"text-align: right;\">\n",
       "      <th></th>\n",
       "      <th>Date</th>\n",
       "      <th>Open</th>\n",
       "      <th>High</th>\n",
       "      <th>Low</th>\n",
       "      <th>Close</th>\n",
       "      <th>Volume</th>\n",
       "      <th>Dividends</th>\n",
       "      <th>Stock Splits</th>\n",
       "    </tr>\n",
       "  </thead>\n",
       "  <tbody>\n",
       "    <tr>\n",
       "      <th>0</th>\n",
       "      <td>2010-06-29 00:00:00-04:00</td>\n",
       "      <td>1.266667</td>\n",
       "      <td>1.666667</td>\n",
       "      <td>1.169333</td>\n",
       "      <td>1.592667</td>\n",
       "      <td>281494500</td>\n",
       "      <td>0.0</td>\n",
       "      <td>0.0</td>\n",
       "    </tr>\n",
       "    <tr>\n",
       "      <th>1</th>\n",
       "      <td>2010-06-30 00:00:00-04:00</td>\n",
       "      <td>1.719333</td>\n",
       "      <td>2.028000</td>\n",
       "      <td>1.553333</td>\n",
       "      <td>1.588667</td>\n",
       "      <td>257806500</td>\n",
       "      <td>0.0</td>\n",
       "      <td>0.0</td>\n",
       "    </tr>\n",
       "    <tr>\n",
       "      <th>2</th>\n",
       "      <td>2010-07-01 00:00:00-04:00</td>\n",
       "      <td>1.666667</td>\n",
       "      <td>1.728000</td>\n",
       "      <td>1.351333</td>\n",
       "      <td>1.464000</td>\n",
       "      <td>123282000</td>\n",
       "      <td>0.0</td>\n",
       "      <td>0.0</td>\n",
       "    </tr>\n",
       "    <tr>\n",
       "      <th>3</th>\n",
       "      <td>2010-07-02 00:00:00-04:00</td>\n",
       "      <td>1.533333</td>\n",
       "      <td>1.540000</td>\n",
       "      <td>1.247333</td>\n",
       "      <td>1.280000</td>\n",
       "      <td>77097000</td>\n",
       "      <td>0.0</td>\n",
       "      <td>0.0</td>\n",
       "    </tr>\n",
       "    <tr>\n",
       "      <th>4</th>\n",
       "      <td>2010-07-06 00:00:00-04:00</td>\n",
       "      <td>1.333333</td>\n",
       "      <td>1.333333</td>\n",
       "      <td>1.055333</td>\n",
       "      <td>1.074000</td>\n",
       "      <td>103003500</td>\n",
       "      <td>0.0</td>\n",
       "      <td>0.0</td>\n",
       "    </tr>\n",
       "  </tbody>\n",
       "</table>\n",
       "</div>"
      ],
      "text/plain": [
       "                       Date      Open      High       Low     Close  \\\n",
       "0 2010-06-29 00:00:00-04:00  1.266667  1.666667  1.169333  1.592667   \n",
       "1 2010-06-30 00:00:00-04:00  1.719333  2.028000  1.553333  1.588667   \n",
       "2 2010-07-01 00:00:00-04:00  1.666667  1.728000  1.351333  1.464000   \n",
       "3 2010-07-02 00:00:00-04:00  1.533333  1.540000  1.247333  1.280000   \n",
       "4 2010-07-06 00:00:00-04:00  1.333333  1.333333  1.055333  1.074000   \n",
       "\n",
       "      Volume  Dividends  Stock Splits  \n",
       "0  281494500        0.0           0.0  \n",
       "1  257806500        0.0           0.0  \n",
       "2  123282000        0.0           0.0  \n",
       "3   77097000        0.0           0.0  \n",
       "4  103003500        0.0           0.0  "
      ]
     },
     "execution_count": 64,
     "metadata": {},
     "output_type": "execute_result"
    }
   ],
   "source": [
    "import yfinance as yf\n",
    "import pandas as pd\n",
    "import requests\n",
    "from bs4 import BeautifulSoup\n",
    "\n",
    "\n",
    "tsla = yf.Ticker(\"TSLA\")\n",
    "tsla_data = tsla.history(period=\"max\")\n",
    "tsla_data.reset_index(inplace=True)\n",
    "tsla_data.head()"
   ]
  },
  {
   "cell_type": "markdown",
   "id": "499fcbf9",
   "metadata": {},
   "source": [
    "<h3>Question 2:</h3>Extracting Tesla Revenue Data Using Webscraping"
   ]
  },
  {
   "cell_type": "code",
   "execution_count": 70,
   "id": "c04d6bfe",
   "metadata": {},
   "outputs": [],
   "source": [
    "url = \"https://finance.yahoo.com/quote/TSLA/financials?p=TSLA\"\n",
    "tsla = requests.get(url).text\n",
    "soup = BeautifulSoup(tsla , \"html5lib\")\n",
    "tsla_revenue = soup.find(\"div\" , class_ = \"D(tbr) fi-row Bgc($hoverBgColor):h\")"
   ]
  },
  {
   "cell_type": "markdown",
   "id": "4c9a1c25",
   "metadata": {},
   "source": [
    "<h3>Question 3:</h3>Extracting GameStop Stock Data Using yfinance"
   ]
  },
  {
   "cell_type": "code",
   "execution_count": 21,
   "id": "d2150903",
   "metadata": {},
   "outputs": [
    {
     "data": {
      "text/html": [
       "<div>\n",
       "<style scoped>\n",
       "    .dataframe tbody tr th:only-of-type {\n",
       "        vertical-align: middle;\n",
       "    }\n",
       "\n",
       "    .dataframe tbody tr th {\n",
       "        vertical-align: top;\n",
       "    }\n",
       "\n",
       "    .dataframe thead th {\n",
       "        text-align: right;\n",
       "    }\n",
       "</style>\n",
       "<table border=\"1\" class=\"dataframe\">\n",
       "  <thead>\n",
       "    <tr style=\"text-align: right;\">\n",
       "      <th></th>\n",
       "      <th>Date</th>\n",
       "      <th>Open</th>\n",
       "      <th>High</th>\n",
       "      <th>Low</th>\n",
       "      <th>Close</th>\n",
       "      <th>Volume</th>\n",
       "      <th>Dividends</th>\n",
       "      <th>Stock Splits</th>\n",
       "    </tr>\n",
       "  </thead>\n",
       "  <tbody>\n",
       "    <tr>\n",
       "      <th>0</th>\n",
       "      <td>2010-06-29 00:00:00-04:00</td>\n",
       "      <td>1.266667</td>\n",
       "      <td>1.666667</td>\n",
       "      <td>1.169333</td>\n",
       "      <td>1.592667</td>\n",
       "      <td>281494500</td>\n",
       "      <td>0.0</td>\n",
       "      <td>0.0</td>\n",
       "    </tr>\n",
       "    <tr>\n",
       "      <th>1</th>\n",
       "      <td>2010-06-30 00:00:00-04:00</td>\n",
       "      <td>1.719333</td>\n",
       "      <td>2.028000</td>\n",
       "      <td>1.553333</td>\n",
       "      <td>1.588667</td>\n",
       "      <td>257806500</td>\n",
       "      <td>0.0</td>\n",
       "      <td>0.0</td>\n",
       "    </tr>\n",
       "    <tr>\n",
       "      <th>2</th>\n",
       "      <td>2010-07-01 00:00:00-04:00</td>\n",
       "      <td>1.666667</td>\n",
       "      <td>1.728000</td>\n",
       "      <td>1.351333</td>\n",
       "      <td>1.464000</td>\n",
       "      <td>123282000</td>\n",
       "      <td>0.0</td>\n",
       "      <td>0.0</td>\n",
       "    </tr>\n",
       "    <tr>\n",
       "      <th>3</th>\n",
       "      <td>2010-07-02 00:00:00-04:00</td>\n",
       "      <td>1.533333</td>\n",
       "      <td>1.540000</td>\n",
       "      <td>1.247333</td>\n",
       "      <td>1.280000</td>\n",
       "      <td>77097000</td>\n",
       "      <td>0.0</td>\n",
       "      <td>0.0</td>\n",
       "    </tr>\n",
       "    <tr>\n",
       "      <th>4</th>\n",
       "      <td>2010-07-06 00:00:00-04:00</td>\n",
       "      <td>1.333333</td>\n",
       "      <td>1.333333</td>\n",
       "      <td>1.055333</td>\n",
       "      <td>1.074000</td>\n",
       "      <td>103003500</td>\n",
       "      <td>0.0</td>\n",
       "      <td>0.0</td>\n",
       "    </tr>\n",
       "  </tbody>\n",
       "</table>\n",
       "</div>"
      ],
      "text/plain": [
       "                       Date      Open      High       Low     Close  \\\n",
       "0 2010-06-29 00:00:00-04:00  1.266667  1.666667  1.169333  1.592667   \n",
       "1 2010-06-30 00:00:00-04:00  1.719333  2.028000  1.553333  1.588667   \n",
       "2 2010-07-01 00:00:00-04:00  1.666667  1.728000  1.351333  1.464000   \n",
       "3 2010-07-02 00:00:00-04:00  1.533333  1.540000  1.247333  1.280000   \n",
       "4 2010-07-06 00:00:00-04:00  1.333333  1.333333  1.055333  1.074000   \n",
       "\n",
       "      Volume  Dividends  Stock Splits  \n",
       "0  281494500        0.0           0.0  \n",
       "1  257806500        0.0           0.0  \n",
       "2  123282000        0.0           0.0  \n",
       "3   77097000        0.0           0.0  \n",
       "4  103003500        0.0           0.0  "
      ]
     },
     "execution_count": 21,
     "metadata": {},
     "output_type": "execute_result"
    }
   ],
   "source": [
    "gme = yf.Ticker(\"GME\")\n",
    "gme_data = tsla.history(period=\"max\")\n",
    "gme_data.reset_index(inplace=True)\n",
    "gme_data.head()"
   ]
  },
  {
   "cell_type": "markdown",
   "id": "0f010de5",
   "metadata": {},
   "source": [
    "<h3>Question 4:</h3> Extracting GameStop Revenue Data Using Webscraping"
   ]
  },
  {
   "cell_type": "code",
   "execution_count": 76,
   "id": "23bd7d3b",
   "metadata": {},
   "outputs": [],
   "source": [
    "url = \"https://finance.yahoo.com/quote/GME/financials?p=GME\"\n",
    "gme = requests.get(url).text\n",
    "soup = BeautifulSoup(gme , \"html5lib\")\n",
    "gme_revenue = soup.find(\"div\" , class_ = \"D(tbr) fi-row Bgc($hoverBgColor):h\")"
   ]
  },
  {
   "cell_type": "markdown",
   "id": "3cb64a57",
   "metadata": {},
   "source": [
    "<h3>Question 5:</h3>Tesla Stock and Revenue Dashboard"
   ]
  },
  {
   "cell_type": "code",
   "execution_count": 61,
   "id": "da24bc12",
   "metadata": {},
   "outputs": [
    {
     "data": {
      "text/html": [
       "<div>\n",
       "<style scoped>\n",
       "    .dataframe tbody tr th:only-of-type {\n",
       "        vertical-align: middle;\n",
       "    }\n",
       "\n",
       "    .dataframe tbody tr th {\n",
       "        vertical-align: top;\n",
       "    }\n",
       "\n",
       "    .dataframe thead th {\n",
       "        text-align: right;\n",
       "    }\n",
       "</style>\n",
       "<table border=\"1\" class=\"dataframe\">\n",
       "  <thead>\n",
       "    <tr style=\"text-align: right;\">\n",
       "      <th></th>\n",
       "      <th>2022-12-31</th>\n",
       "      <th>2021-12-31</th>\n",
       "      <th>2020-12-31</th>\n",
       "    </tr>\n",
       "  </thead>\n",
       "  <tbody>\n",
       "    <tr>\n",
       "      <th>Total Revenue</th>\n",
       "      <td>81462000000.0</td>\n",
       "      <td>53823000000.0</td>\n",
       "      <td>31536000000.0</td>\n",
       "    </tr>\n",
       "    <tr>\n",
       "      <th>Operating Revenue</th>\n",
       "      <td>81462000000.0</td>\n",
       "      <td>53823000000.0</td>\n",
       "      <td>31536000000.0</td>\n",
       "    </tr>\n",
       "    <tr>\n",
       "      <th>Cost Of Revenue</th>\n",
       "      <td>60609000000.0</td>\n",
       "      <td>40217000000.0</td>\n",
       "      <td>24906000000.0</td>\n",
       "    </tr>\n",
       "  </tbody>\n",
       "</table>\n",
       "</div>"
      ],
      "text/plain": [
       "                      2022-12-31     2021-12-31     2020-12-31\n",
       "Total Revenue      81462000000.0  53823000000.0  31536000000.0\n",
       "Operating Revenue  81462000000.0  53823000000.0  31536000000.0\n",
       "Cost Of Revenue    60609000000.0  40217000000.0  24906000000.0"
      ]
     },
     "execution_count": 61,
     "metadata": {},
     "output_type": "execute_result"
    }
   ],
   "source": [
    "tsla.financials.loc[['Total Revenue','Operating Revenue','Cost Of Revenue']]"
   ]
  },
  {
   "cell_type": "markdown",
   "id": "cf54ebc4",
   "metadata": {},
   "source": [
    "<h3>Question 6:</h3> GameStop Stock and Revenue Dashboard"
   ]
  },
  {
   "cell_type": "code",
   "execution_count": 63,
   "id": "9ac4ac94",
   "metadata": {},
   "outputs": [
    {
     "data": {
      "text/html": [
       "<div>\n",
       "<style scoped>\n",
       "    .dataframe tbody tr th:only-of-type {\n",
       "        vertical-align: middle;\n",
       "    }\n",
       "\n",
       "    .dataframe tbody tr th {\n",
       "        vertical-align: top;\n",
       "    }\n",
       "\n",
       "    .dataframe thead th {\n",
       "        text-align: right;\n",
       "    }\n",
       "</style>\n",
       "<table border=\"1\" class=\"dataframe\">\n",
       "  <thead>\n",
       "    <tr style=\"text-align: right;\">\n",
       "      <th></th>\n",
       "      <th>2023-01-31</th>\n",
       "      <th>2022-01-31</th>\n",
       "      <th>2021-01-31</th>\n",
       "      <th>2020-01-31</th>\n",
       "    </tr>\n",
       "  </thead>\n",
       "  <tbody>\n",
       "    <tr>\n",
       "      <th>Total Revenue</th>\n",
       "      <td>5927200000.0</td>\n",
       "      <td>6010700000.0</td>\n",
       "      <td>5089800000.0</td>\n",
       "      <td>6466000000.0</td>\n",
       "    </tr>\n",
       "    <tr>\n",
       "      <th>Operating Revenue</th>\n",
       "      <td>5927200000.0</td>\n",
       "      <td>6010700000.0</td>\n",
       "      <td>5089800000.0</td>\n",
       "      <td>6466000000.0</td>\n",
       "    </tr>\n",
       "    <tr>\n",
       "      <th>Cost Of Revenue</th>\n",
       "      <td>4555100000.0</td>\n",
       "      <td>4662900000.0</td>\n",
       "      <td>3830300000.0</td>\n",
       "      <td>4557300000.0</td>\n",
       "    </tr>\n",
       "  </tbody>\n",
       "</table>\n",
       "</div>"
      ],
      "text/plain": [
       "                     2023-01-31    2022-01-31    2021-01-31    2020-01-31\n",
       "Total Revenue      5927200000.0  6010700000.0  5089800000.0  6466000000.0\n",
       "Operating Revenue  5927200000.0  6010700000.0  5089800000.0  6466000000.0\n",
       "Cost Of Revenue    4555100000.0  4662900000.0  3830300000.0  4557300000.0"
      ]
     },
     "execution_count": 63,
     "metadata": {},
     "output_type": "execute_result"
    }
   ],
   "source": [
    "gme.financials.loc[['Total Revenue','Operating Revenue','Cost Of Revenue']]"
   ]
  },
  {
   "cell_type": "markdown",
   "id": "0a3af373",
   "metadata": {},
   "source": [
    "<h3>Question 7:</h3>Sharing your Assignment Notebook "
   ]
  },
  {
   "cell_type": "markdown",
   "id": "d054c524",
   "metadata": {},
   "source": [
    "The Assignment URL is shared successfully!"
   ]
  }
 ],
 "metadata": {
  "kernelspec": {
   "display_name": "Python 3 (ipykernel)",
   "language": "python",
   "name": "python3"
  },
  "language_info": {
   "codemirror_mode": {
    "name": "ipython",
    "version": 3
   },
   "file_extension": ".py",
   "mimetype": "text/x-python",
   "name": "python",
   "nbconvert_exporter": "python",
   "pygments_lexer": "ipython3",
   "version": "3.11.5"
  }
 },
 "nbformat": 4,
 "nbformat_minor": 5
}
